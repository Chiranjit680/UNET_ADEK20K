{
 "cells": [
  {
   "cell_type": "code",
   "execution_count": 1,
   "id": "9c880005",
   "metadata": {},
   "outputs": [
    {
     "name": "stderr",
     "output_type": "stream",
     "text": [
      "c:\\Users\\CHIRANJIT\\anaconda3\\envs\\myenv\\lib\\site-packages\\tqdm\\auto.py:21: TqdmWarning: IProgress not found. Please update jupyter and ipywidgets. See https://ipywidgets.readthedocs.io/en/stable/user_install.html\n",
      "  from .autonotebook import tqdm as notebook_tqdm\n"
     ]
    }
   ],
   "source": [
    "from UNet import Unet\n",
    "import utils\n",
    "import engine\n",
    "from learning_rate_range_test import LRTest\n",
    "\n",
    "import os\n",
    "import numpy as np\n",
    "import matplotlib.pyplot as plt\n",
    "\n",
    "\n",
    "\n",
    "import albumentations as A\n",
    "import gc\n",
    "from tqdm.notebook import tqdm\n",
    "\n",
    "import torch\n",
    "import torch.nn as nn\n",
    "from torch.utils.data import DataLoader\n",
    "import torch.optim as optim\n"
   ]
  },
  {
   "cell_type": "code",
   "execution_count": 3,
   "id": "43aaf3ab",
   "metadata": {},
   "outputs": [
    {
     "name": "stdout",
     "output_type": "stream",
     "text": [
      "torch.Size([2, 150, 388, 388])\n"
     ]
    }
   ],
   "source": [
    "model=Unet(channels=[3, 64, 128, 256, 512, 1024], no_classes=150)\n",
    "x   = torch.Tensor(np.random.rand(2, 3, 572, 572))\n",
    "y=model(x)\n",
    "print(y.shape)"
   ]
  },
  {
   "cell_type": "code",
   "execution_count": null,
   "id": "3699418b",
   "metadata": {},
   "outputs": [],
   "source": [
    "datadir  = './ADE20K/images/training/'\n",
    "maskdir = './ADE20K/annotations/training/'\n",
    "val_datadir  = './ADE20K/images/validation/'\n",
    "val_maskdir = './ADE20K/annotations/validation/'\n",
    "\n",
    "\n"
   ]
  },
  {
   "cell_type": "code",
   "execution_count": null,
   "id": "2b66e8eb",
   "metadata": {},
   "outputs": [],
   "source": [
    "from torch.utils.data import Dataset\n",
    "from torchvision import transforms\n",
    "from PIL import Image\n",
    "\n",
    "class ADE20KDataset(Dataset):\n",
    "    def __init__(self, image_dir, mask_dir, image_size=(256, 256)):\n",
    "        self.image_dir = image_dir\n",
    "        self.mask_dir = mask_dir\n",
    "        self.image_files = sorted(os.listdir(image_dir))\n",
    "        self.mask_files = sorted(os.listdir(mask_dir))\n",
    "        self.image_size = image_size\n",
    "        self.image_transform = transforms.Compose([\n",
    "            transforms.Resize(self.image_size),\n",
    "            transforms.RandomHorizontalFlip(),\n",
    "            transforms.ColorJitter(brightness=0.2, contrast=0.2, saturation=0.2),\n",
    "            transforms.ToTensor(),\n",
    "            transforms.Normalize(mean=[0.485, 0.456, 0.406],\n",
    "                                 std=[0.229, 0.224, 0.225])\n",
    "        ])\n",
    "\n",
    "    def __len__(self):\n",
    "        return len(self.image_files)\n",
    "\n",
    "    def __getitem__(self, idx):\n",
    "        image = Image.open(os.path.join(self.image_dir, self.image_files[idx])).convert(\"RGB\")\n",
    "        mask = Image.open(os.path.join(self.mask_dir, self.mask_files[idx]))\n",
    "        mask = mask.resize(self.image_size, Image.NEAREST)\n",
    "\n",
    "        image = self.image_transform(image)\n",
    "        mask = torch.from_numpy(np.array(mask, dtype=np.int64))\n",
    "\n",
    "        return image, mask\n"
   ]
  }
 ],
 "metadata": {
  "kernelspec": {
   "display_name": "myenv",
   "language": "python",
   "name": "python3"
  },
  "language_info": {
   "codemirror_mode": {
    "name": "ipython",
    "version": 3
   },
   "file_extension": ".py",
   "mimetype": "text/x-python",
   "name": "python",
   "nbconvert_exporter": "python",
   "pygments_lexer": "ipython3",
   "version": "3.10.16"
  }
 },
 "nbformat": 4,
 "nbformat_minor": 5
}
